{
 "cells": [
  {
   "cell_type": "code",
   "execution_count": 1,
   "id": "145a5ee0-c9cd-4f97-bb85-c9be3efd1e22",
   "metadata": {},
   "outputs": [],
   "source": [
    "##Import Usefull Packages\n",
    "import numpy as np, pandas as pd,matplotlib.pyplot as plt, seaborn as sns\n",
    "\n",
    "import warnings\n",
    "warnings.filterwarnings('ignore')"
   ]
  },
  {
   "cell_type": "markdown",
   "id": "48a82202-77b0-43c4-b4b6-57d289b8becd",
   "metadata": {},
   "source": [
    "## Step 2: Data Import"
   ]
  },
  {
   "cell_type": "code",
   "execution_count": 3,
   "id": "38273286-8a54-4c75-8b94-a9766bd3c16c",
   "metadata": {},
   "outputs": [
    {
     "data": {
      "text/html": [
       "<div>\n",
       "<style scoped>\n",
       "    .dataframe tbody tr th:only-of-type {\n",
       "        vertical-align: middle;\n",
       "    }\n",
       "\n",
       "    .dataframe tbody tr th {\n",
       "        vertical-align: top;\n",
       "    }\n",
       "\n",
       "    .dataframe thead th {\n",
       "        text-align: right;\n",
       "    }\n",
       "</style>\n",
       "<table border=\"1\" class=\"dataframe\">\n",
       "  <thead>\n",
       "    <tr style=\"text-align: right;\">\n",
       "      <th></th>\n",
       "      <th>Prospect ID</th>\n",
       "      <th>Lead Number</th>\n",
       "      <th>Lead Origin</th>\n",
       "      <th>Lead Source</th>\n",
       "      <th>Do Not Email</th>\n",
       "      <th>Do Not Call</th>\n",
       "      <th>Converted</th>\n",
       "      <th>TotalVisits</th>\n",
       "      <th>Total Time Spent on Website</th>\n",
       "      <th>Page Views Per Visit</th>\n",
       "      <th>...</th>\n",
       "      <th>Get updates on DM Content</th>\n",
       "      <th>Lead Profile</th>\n",
       "      <th>City</th>\n",
       "      <th>Asymmetrique Activity Index</th>\n",
       "      <th>Asymmetrique Profile Index</th>\n",
       "      <th>Asymmetrique Activity Score</th>\n",
       "      <th>Asymmetrique Profile Score</th>\n",
       "      <th>I agree to pay the amount through cheque</th>\n",
       "      <th>A free copy of Mastering The Interview</th>\n",
       "      <th>Last Notable Activity</th>\n",
       "    </tr>\n",
       "  </thead>\n",
       "  <tbody>\n",
       "    <tr>\n",
       "      <th>0</th>\n",
       "      <td>7927b2df-8bba-4d29-b9a2-b6e0beafe620</td>\n",
       "      <td>660737</td>\n",
       "      <td>API</td>\n",
       "      <td>Olark Chat</td>\n",
       "      <td>No</td>\n",
       "      <td>No</td>\n",
       "      <td>0</td>\n",
       "      <td>0.0</td>\n",
       "      <td>0</td>\n",
       "      <td>0.0</td>\n",
       "      <td>...</td>\n",
       "      <td>No</td>\n",
       "      <td>Select</td>\n",
       "      <td>Select</td>\n",
       "      <td>02.Medium</td>\n",
       "      <td>02.Medium</td>\n",
       "      <td>15.0</td>\n",
       "      <td>15.0</td>\n",
       "      <td>No</td>\n",
       "      <td>No</td>\n",
       "      <td>Modified</td>\n",
       "    </tr>\n",
       "    <tr>\n",
       "      <th>1</th>\n",
       "      <td>2a272436-5132-4136-86fa-dcc88c88f482</td>\n",
       "      <td>660728</td>\n",
       "      <td>API</td>\n",
       "      <td>Organic Search</td>\n",
       "      <td>No</td>\n",
       "      <td>No</td>\n",
       "      <td>0</td>\n",
       "      <td>5.0</td>\n",
       "      <td>674</td>\n",
       "      <td>2.5</td>\n",
       "      <td>...</td>\n",
       "      <td>No</td>\n",
       "      <td>Select</td>\n",
       "      <td>Select</td>\n",
       "      <td>02.Medium</td>\n",
       "      <td>02.Medium</td>\n",
       "      <td>15.0</td>\n",
       "      <td>15.0</td>\n",
       "      <td>No</td>\n",
       "      <td>No</td>\n",
       "      <td>Email Opened</td>\n",
       "    </tr>\n",
       "    <tr>\n",
       "      <th>2</th>\n",
       "      <td>8cc8c611-a219-4f35-ad23-fdfd2656bd8a</td>\n",
       "      <td>660727</td>\n",
       "      <td>Landing Page Submission</td>\n",
       "      <td>Direct Traffic</td>\n",
       "      <td>No</td>\n",
       "      <td>No</td>\n",
       "      <td>1</td>\n",
       "      <td>2.0</td>\n",
       "      <td>1532</td>\n",
       "      <td>2.0</td>\n",
       "      <td>...</td>\n",
       "      <td>No</td>\n",
       "      <td>Potential Lead</td>\n",
       "      <td>Mumbai</td>\n",
       "      <td>02.Medium</td>\n",
       "      <td>01.High</td>\n",
       "      <td>14.0</td>\n",
       "      <td>20.0</td>\n",
       "      <td>No</td>\n",
       "      <td>Yes</td>\n",
       "      <td>Email Opened</td>\n",
       "    </tr>\n",
       "    <tr>\n",
       "      <th>3</th>\n",
       "      <td>0cc2df48-7cf4-4e39-9de9-19797f9b38cc</td>\n",
       "      <td>660719</td>\n",
       "      <td>Landing Page Submission</td>\n",
       "      <td>Direct Traffic</td>\n",
       "      <td>No</td>\n",
       "      <td>No</td>\n",
       "      <td>0</td>\n",
       "      <td>1.0</td>\n",
       "      <td>305</td>\n",
       "      <td>1.0</td>\n",
       "      <td>...</td>\n",
       "      <td>No</td>\n",
       "      <td>Select</td>\n",
       "      <td>Mumbai</td>\n",
       "      <td>02.Medium</td>\n",
       "      <td>01.High</td>\n",
       "      <td>13.0</td>\n",
       "      <td>17.0</td>\n",
       "      <td>No</td>\n",
       "      <td>No</td>\n",
       "      <td>Modified</td>\n",
       "    </tr>\n",
       "    <tr>\n",
       "      <th>4</th>\n",
       "      <td>3256f628-e534-4826-9d63-4a8b88782852</td>\n",
       "      <td>660681</td>\n",
       "      <td>Landing Page Submission</td>\n",
       "      <td>Google</td>\n",
       "      <td>No</td>\n",
       "      <td>No</td>\n",
       "      <td>1</td>\n",
       "      <td>2.0</td>\n",
       "      <td>1428</td>\n",
       "      <td>1.0</td>\n",
       "      <td>...</td>\n",
       "      <td>No</td>\n",
       "      <td>Select</td>\n",
       "      <td>Mumbai</td>\n",
       "      <td>02.Medium</td>\n",
       "      <td>01.High</td>\n",
       "      <td>15.0</td>\n",
       "      <td>18.0</td>\n",
       "      <td>No</td>\n",
       "      <td>No</td>\n",
       "      <td>Modified</td>\n",
       "    </tr>\n",
       "  </tbody>\n",
       "</table>\n",
       "<p>5 rows × 37 columns</p>\n",
       "</div>"
      ],
      "text/plain": [
       "                            Prospect ID  Lead Number              Lead Origin  \\\n",
       "0  7927b2df-8bba-4d29-b9a2-b6e0beafe620       660737                      API   \n",
       "1  2a272436-5132-4136-86fa-dcc88c88f482       660728                      API   \n",
       "2  8cc8c611-a219-4f35-ad23-fdfd2656bd8a       660727  Landing Page Submission   \n",
       "3  0cc2df48-7cf4-4e39-9de9-19797f9b38cc       660719  Landing Page Submission   \n",
       "4  3256f628-e534-4826-9d63-4a8b88782852       660681  Landing Page Submission   \n",
       "\n",
       "      Lead Source Do Not Email Do Not Call  Converted  TotalVisits  \\\n",
       "0      Olark Chat           No          No          0          0.0   \n",
       "1  Organic Search           No          No          0          5.0   \n",
       "2  Direct Traffic           No          No          1          2.0   \n",
       "3  Direct Traffic           No          No          0          1.0   \n",
       "4          Google           No          No          1          2.0   \n",
       "\n",
       "   Total Time Spent on Website  Page Views Per Visit  ...  \\\n",
       "0                            0                   0.0  ...   \n",
       "1                          674                   2.5  ...   \n",
       "2                         1532                   2.0  ...   \n",
       "3                          305                   1.0  ...   \n",
       "4                         1428                   1.0  ...   \n",
       "\n",
       "  Get updates on DM Content    Lead Profile    City  \\\n",
       "0                        No          Select  Select   \n",
       "1                        No          Select  Select   \n",
       "2                        No  Potential Lead  Mumbai   \n",
       "3                        No          Select  Mumbai   \n",
       "4                        No          Select  Mumbai   \n",
       "\n",
       "  Asymmetrique Activity Index Asymmetrique Profile Index  \\\n",
       "0                   02.Medium                  02.Medium   \n",
       "1                   02.Medium                  02.Medium   \n",
       "2                   02.Medium                    01.High   \n",
       "3                   02.Medium                    01.High   \n",
       "4                   02.Medium                    01.High   \n",
       "\n",
       "  Asymmetrique Activity Score Asymmetrique Profile Score  \\\n",
       "0                        15.0                       15.0   \n",
       "1                        15.0                       15.0   \n",
       "2                        14.0                       20.0   \n",
       "3                        13.0                       17.0   \n",
       "4                        15.0                       18.0   \n",
       "\n",
       "  I agree to pay the amount through cheque  \\\n",
       "0                                       No   \n",
       "1                                       No   \n",
       "2                                       No   \n",
       "3                                       No   \n",
       "4                                       No   \n",
       "\n",
       "  A free copy of Mastering The Interview Last Notable Activity  \n",
       "0                                     No              Modified  \n",
       "1                                     No          Email Opened  \n",
       "2                                    Yes          Email Opened  \n",
       "3                                     No              Modified  \n",
       "4                                     No              Modified  \n",
       "\n",
       "[5 rows x 37 columns]"
      ]
     },
     "execution_count": 3,
     "metadata": {},
     "output_type": "execute_result"
    }
   ],
   "source": [
    "lead_df= pd.read_csv(\"Leads.csv\")\n",
    "lead_df.head()"
   ]
  },
  {
   "cell_type": "code",
   "execution_count": 5,
   "id": "54d8436a-97c0-4f5f-8d78-0f75743e2537",
   "metadata": {},
   "outputs": [
    {
     "data": {
      "text/plain": [
       "(9240, 37)"
      ]
     },
     "execution_count": 5,
     "metadata": {},
     "output_type": "execute_result"
    }
   ],
   "source": [
    "lead_df.shape"
   ]
  },
  {
   "cell_type": "code",
   "execution_count": 6,
   "id": "c550c70e-08f7-4b86-b4fe-5ea04d88ac32",
   "metadata": {},
   "outputs": [
    {
     "name": "stdout",
     "output_type": "stream",
     "text": [
      "<class 'pandas.core.frame.DataFrame'>\n",
      "RangeIndex: 9240 entries, 0 to 9239\n",
      "Data columns (total 37 columns):\n",
      " #   Column                                         Non-Null Count  Dtype  \n",
      "---  ------                                         --------------  -----  \n",
      " 0   Prospect ID                                    9240 non-null   object \n",
      " 1   Lead Number                                    9240 non-null   int64  \n",
      " 2   Lead Origin                                    9240 non-null   object \n",
      " 3   Lead Source                                    9204 non-null   object \n",
      " 4   Do Not Email                                   9240 non-null   object \n",
      " 5   Do Not Call                                    9240 non-null   object \n",
      " 6   Converted                                      9240 non-null   int64  \n",
      " 7   TotalVisits                                    9103 non-null   float64\n",
      " 8   Total Time Spent on Website                    9240 non-null   int64  \n",
      " 9   Page Views Per Visit                           9103 non-null   float64\n",
      " 10  Last Activity                                  9137 non-null   object \n",
      " 11  Country                                        6779 non-null   object \n",
      " 12  Specialization                                 7802 non-null   object \n",
      " 13  How did you hear about X Education             7033 non-null   object \n",
      " 14  What is your current occupation                6550 non-null   object \n",
      " 15  What matters most to you in choosing a course  6531 non-null   object \n",
      " 16  Search                                         9240 non-null   object \n",
      " 17  Magazine                                       9240 non-null   object \n",
      " 18  Newspaper Article                              9240 non-null   object \n",
      " 19  X Education Forums                             9240 non-null   object \n",
      " 20  Newspaper                                      9240 non-null   object \n",
      " 21  Digital Advertisement                          9240 non-null   object \n",
      " 22  Through Recommendations                        9240 non-null   object \n",
      " 23  Receive More Updates About Our Courses         9240 non-null   object \n",
      " 24  Tags                                           5887 non-null   object \n",
      " 25  Lead Quality                                   4473 non-null   object \n",
      " 26  Update me on Supply Chain Content              9240 non-null   object \n",
      " 27  Get updates on DM Content                      9240 non-null   object \n",
      " 28  Lead Profile                                   6531 non-null   object \n",
      " 29  City                                           7820 non-null   object \n",
      " 30  Asymmetrique Activity Index                    5022 non-null   object \n",
      " 31  Asymmetrique Profile Index                     5022 non-null   object \n",
      " 32  Asymmetrique Activity Score                    5022 non-null   float64\n",
      " 33  Asymmetrique Profile Score                     5022 non-null   float64\n",
      " 34  I agree to pay the amount through cheque       9240 non-null   object \n",
      " 35  A free copy of Mastering The Interview         9240 non-null   object \n",
      " 36  Last Notable Activity                          9240 non-null   object \n",
      "dtypes: float64(4), int64(3), object(30)\n",
      "memory usage: 2.6+ MB\n"
     ]
    }
   ],
   "source": [
    "lead_df.info()"
   ]
  },
  {
   "cell_type": "code",
   "execution_count": 10,
   "id": "35a8dfda-7838-41ed-9c26-40003bd74aa3",
   "metadata": {},
   "outputs": [
    {
     "data": {
      "text/plain": [
       "Prospect ID                                         0\n",
       "Lead Number                                         0\n",
       "Lead Origin                                         0\n",
       "Lead Source                                        36\n",
       "Do Not Email                                        0\n",
       "Do Not Call                                         0\n",
       "Converted                                           0\n",
       "TotalVisits                                       137\n",
       "Total Time Spent on Website                         0\n",
       "Page Views Per Visit                              137\n",
       "Last Activity                                     103\n",
       "Country                                          2461\n",
       "Specialization                                   1438\n",
       "How did you hear about X Education               2207\n",
       "What is your current occupation                  2690\n",
       "What matters most to you in choosing a course    2709\n",
       "Search                                              0\n",
       "Magazine                                            0\n",
       "Newspaper Article                                   0\n",
       "X Education Forums                                  0\n",
       "Newspaper                                           0\n",
       "Digital Advertisement                               0\n",
       "Through Recommendations                             0\n",
       "Receive More Updates About Our Courses              0\n",
       "Tags                                             3353\n",
       "Lead Quality                                     4767\n",
       "Update me on Supply Chain Content                   0\n",
       "Get updates on DM Content                           0\n",
       "Lead Profile                                     2709\n",
       "City                                             1420\n",
       "Asymmetrique Activity Index                      4218\n",
       "Asymmetrique Profile Index                       4218\n",
       "Asymmetrique Activity Score                      4218\n",
       "Asymmetrique Profile Score                       4218\n",
       "I agree to pay the amount through cheque            0\n",
       "A free copy of Mastering The Interview              0\n",
       "Last Notable Activity                               0\n",
       "dtype: int64"
      ]
     },
     "execution_count": 10,
     "metadata": {},
     "output_type": "execute_result"
    }
   ],
   "source": [
    "## Checking for null value\n",
    "lead_df.isna().sum()"
   ]
  },
  {
   "cell_type": "code",
   "execution_count": 20,
   "id": "d476ba72-0f6b-444c-976e-4e709cbc70ea",
   "metadata": {},
   "outputs": [
    {
     "data": {
      "text/plain": [
       "Prospect ID                                       0.00\n",
       "Lead Number                                       0.00\n",
       "Lead Origin                                       0.00\n",
       "Lead Source                                       0.39\n",
       "Do Not Email                                      0.00\n",
       "Do Not Call                                       0.00\n",
       "Converted                                         0.00\n",
       "TotalVisits                                       1.48\n",
       "Total Time Spent on Website                       0.00\n",
       "Page Views Per Visit                              1.48\n",
       "Last Activity                                     1.11\n",
       "Country                                          26.63\n",
       "Specialization                                   15.56\n",
       "How did you hear about X Education               23.89\n",
       "What is your current occupation                  29.11\n",
       "What matters most to you in choosing a course    29.32\n",
       "Search                                            0.00\n",
       "Magazine                                          0.00\n",
       "Newspaper Article                                 0.00\n",
       "X Education Forums                                0.00\n",
       "Newspaper                                         0.00\n",
       "Digital Advertisement                             0.00\n",
       "Through Recommendations                           0.00\n",
       "Receive More Updates About Our Courses            0.00\n",
       "Tags                                             36.29\n",
       "Lead Quality                                     51.59\n",
       "Update me on Supply Chain Content                 0.00\n",
       "Get updates on DM Content                         0.00\n",
       "Lead Profile                                     29.32\n",
       "City                                             15.37\n",
       "Asymmetrique Activity Index                      45.65\n",
       "Asymmetrique Profile Index                       45.65\n",
       "Asymmetrique Activity Score                      45.65\n",
       "Asymmetrique Profile Score                       45.65\n",
       "I agree to pay the amount through cheque          0.00\n",
       "A free copy of Mastering The Interview            0.00\n",
       "Last Notable Activity                             0.00\n",
       "dtype: float64"
      ]
     },
     "execution_count": 20,
     "metadata": {},
     "output_type": "execute_result"
    }
   ],
   "source": [
    "round(100*(lead_df.isnull().sum()/len(lead_df.index)), 2)"
   ]
  },
  {
   "cell_type": "code",
   "execution_count": 68,
   "id": "d9763f17-003a-49aa-91f1-a9f28371c05d",
   "metadata": {},
   "outputs": [],
   "source": [
    "## droping null value greater than 40%\n",
    "lead_df1= lead_df.drop(['Lead Quality','Asymmetrique Activity Index','Asymmetrique Profile Index',\n",
    "                        'Asymmetrique Activity Score','Asymmetrique Profile Score'],axis=1)"
   ]
  },
  {
   "cell_type": "code",
   "execution_count": 22,
   "id": "a719475d-6122-4ec5-8ca4-e3308393a880",
   "metadata": {},
   "outputs": [
    {
     "data": {
      "text/plain": [
       "Prospect ID                                       0.00\n",
       "Lead Number                                       0.00\n",
       "Lead Origin                                       0.00\n",
       "Lead Source                                       0.39\n",
       "Do Not Email                                      0.00\n",
       "Do Not Call                                       0.00\n",
       "Converted                                         0.00\n",
       "TotalVisits                                       1.48\n",
       "Total Time Spent on Website                       0.00\n",
       "Page Views Per Visit                              1.48\n",
       "Last Activity                                     1.11\n",
       "Country                                          26.63\n",
       "Specialization                                   15.56\n",
       "How did you hear about X Education               23.89\n",
       "What is your current occupation                  29.11\n",
       "What matters most to you in choosing a course    29.32\n",
       "Search                                            0.00\n",
       "Magazine                                          0.00\n",
       "Newspaper Article                                 0.00\n",
       "X Education Forums                                0.00\n",
       "Newspaper                                         0.00\n",
       "Digital Advertisement                             0.00\n",
       "Through Recommendations                           0.00\n",
       "Receive More Updates About Our Courses            0.00\n",
       "Tags                                             36.29\n",
       "Update me on Supply Chain Content                 0.00\n",
       "Get updates on DM Content                         0.00\n",
       "Lead Profile                                     29.32\n",
       "City                                             15.37\n",
       "I agree to pay the amount through cheque          0.00\n",
       "A free copy of Mastering The Interview            0.00\n",
       "Last Notable Activity                             0.00\n",
       "dtype: float64"
      ]
     },
     "execution_count": 22,
     "metadata": {},
     "output_type": "execute_result"
    }
   ],
   "source": [
    "round(100*(lead_df1.isnull().sum()/len(lead_df1.index)), 2)"
   ]
  },
  {
   "cell_type": "code",
   "execution_count": 26,
   "id": "fa2f0bac-410b-42fb-adb3-843976596b66",
   "metadata": {},
   "outputs": [],
   "source": [
    "## Since these column is important and we can't remove these column,We will update it with Not Provided\n",
    "lead_df1.Country = lead_df1.Country.fillna(\"Not Provided\")\n"
   ]
  },
  {
   "cell_type": "code",
   "execution_count": 27,
   "id": "bb791073-a5f4-405d-8f84-143b434e4c55",
   "metadata": {},
   "outputs": [
    {
     "data": {
      "text/plain": [
       "Country\n",
       "India                   6492\n",
       "Not Provided            2461\n",
       "United States             69\n",
       "United Arab Emirates      53\n",
       "Singapore                 24\n",
       "Saudi Arabia              21\n",
       "United Kingdom            15\n",
       "Australia                 13\n",
       "Qatar                     10\n",
       "Bahrain                    7\n",
       "Hong Kong                  7\n",
       "Oman                       6\n",
       "France                     6\n",
       "unknown                    5\n",
       "Kuwait                     4\n",
       "South Africa               4\n",
       "Canada                     4\n",
       "Nigeria                    4\n",
       "Germany                    4\n",
       "Sweden                     3\n",
       "Philippines                2\n",
       "Uganda                     2\n",
       "Italy                      2\n",
       "Bangladesh                 2\n",
       "Netherlands                2\n",
       "Asia/Pacific Region        2\n",
       "China                      2\n",
       "Belgium                    2\n",
       "Ghana                      2\n",
       "Kenya                      1\n",
       "Sri Lanka                  1\n",
       "Tanzania                   1\n",
       "Malaysia                   1\n",
       "Liberia                    1\n",
       "Switzerland                1\n",
       "Denmark                    1\n",
       "Russia                     1\n",
       "Vietnam                    1\n",
       "Indonesia                  1\n",
       "Name: count, dtype: int64"
      ]
     },
     "execution_count": 27,
     "metadata": {},
     "output_type": "execute_result"
    }
   ],
   "source": [
    "lead_df1[\"Country\"].value_counts()"
   ]
  },
  {
   "cell_type": "code",
   "execution_count": 31,
   "id": "86f30a5c-0645-4d89-8639-2f3110a005d5",
   "metadata": {},
   "outputs": [
    {
     "data": {
      "text/plain": [
       "Country\n",
       "India                   6492\n",
       "Not Provided            2461\n",
       "United States             69\n",
       "United Arab Emirates      53\n",
       "Singapore                 24\n",
       "Saudi Arabia              21\n",
       "United Kingdom            15\n",
       "Australia                 13\n",
       "Qatar                     10\n",
       "Bahrain                    7\n",
       "Hong Kong                  7\n",
       "Oman                       6\n",
       "France                     6\n",
       "unknown                    5\n",
       "Kuwait                     4\n",
       "South Africa               4\n",
       "Canada                     4\n",
       "Nigeria                    4\n",
       "Germany                    4\n",
       "Sweden                     3\n",
       "Philippines                2\n",
       "Uganda                     2\n",
       "Italy                      2\n",
       "Bangladesh                 2\n",
       "Netherlands                2\n",
       "Asia/Pacific Region        2\n",
       "China                      2\n",
       "Belgium                    2\n",
       "Ghana                      2\n",
       "Kenya                      1\n",
       "Sri Lanka                  1\n",
       "Tanzania                   1\n",
       "Malaysia                   1\n",
       "Liberia                    1\n",
       "Switzerland                1\n",
       "Denmark                    1\n",
       "Russia                     1\n",
       "Vietnam                    1\n",
       "Indonesia                  1\n",
       "Name: count, dtype: int64"
      ]
     },
     "execution_count": 31,
     "metadata": {},
     "output_type": "execute_result"
    }
   ],
   "source": [
    "lead_df1['Country'].value_counts()"
   ]
  },
  {
   "cell_type": "code",
   "execution_count": 32,
   "id": "bf7382e4-a790-4542-917a-e8f67dd6e232",
   "metadata": {},
   "outputs": [],
   "source": [
    "# Converting all the values to lower case\n",
    "lead_df1 = lead_df1.applymap(lambda s:s.lower() if type(s) == str else s)"
   ]
  },
  {
   "cell_type": "code",
   "execution_count": 33,
   "id": "4789c3d2-8a8e-4434-837d-0df1a45017d7",
   "metadata": {},
   "outputs": [
    {
     "data": {
      "text/plain": [
       "Country\n",
       "india                   6492\n",
       "not provided            2461\n",
       "united states             69\n",
       "united arab emirates      53\n",
       "singapore                 24\n",
       "saudi arabia              21\n",
       "united kingdom            15\n",
       "australia                 13\n",
       "qatar                     10\n",
       "bahrain                    7\n",
       "hong kong                  7\n",
       "oman                       6\n",
       "france                     6\n",
       "unknown                    5\n",
       "kuwait                     4\n",
       "south africa               4\n",
       "canada                     4\n",
       "nigeria                    4\n",
       "germany                    4\n",
       "sweden                     3\n",
       "philippines                2\n",
       "uganda                     2\n",
       "italy                      2\n",
       "bangladesh                 2\n",
       "netherlands                2\n",
       "asia/pacific region        2\n",
       "china                      2\n",
       "belgium                    2\n",
       "ghana                      2\n",
       "kenya                      1\n",
       "sri lanka                  1\n",
       "tanzania                   1\n",
       "malaysia                   1\n",
       "liberia                    1\n",
       "switzerland                1\n",
       "denmark                    1\n",
       "russia                     1\n",
       "vietnam                    1\n",
       "indonesia                  1\n",
       "Name: count, dtype: int64"
      ]
     },
     "execution_count": 33,
     "metadata": {},
     "output_type": "execute_result"
    }
   ],
   "source": [
    "lead_df1['Country'].value_counts()"
   ]
  },
  {
   "cell_type": "code",
   "execution_count": 35,
   "id": "063cc982-7d1e-44d0-8cd3-9c524f069fbc",
   "metadata": {},
   "outputs": [],
   "source": [
    "# Replacing 'Select' with NaN\n",
    "lead_df1 = lead_df1.replace('select',np.nan)"
   ]
  },
  {
   "cell_type": "code",
   "execution_count": 36,
   "id": "5f50b0bc-83e1-44d8-8c85-be9309d67543",
   "metadata": {},
   "outputs": [],
   "source": [
    "## Updating Country with Outside India for COuntry is not present as India & Not Provided\n",
    "def update_country(x):\n",
    "    category = \"\"\n",
    "    if x == \"india\":\n",
    "        category = \"india\"\n",
    "    elif x == \"not provided\":\n",
    "        category = \"not provided\"\n",
    "    else:\n",
    "        category = \"outside india\"\n",
    "    return category"
   ]
  },
  {
   "cell_type": "code",
   "execution_count": 39,
   "id": "c73dd414-bd43-4d33-8fc0-d0e115c0fb1c",
   "metadata": {},
   "outputs": [],
   "source": [
    "lead_df1['Country'] = lead_df1.apply(lambda x:update_country(x['Country']), axis = 1)"
   ]
  },
  {
   "cell_type": "code",
   "execution_count": 40,
   "id": "4e85abe2-9b18-4700-8aca-488071094b0a",
   "metadata": {},
   "outputs": [
    {
     "data": {
      "text/plain": [
       "Country\n",
       "india            6492\n",
       "not provided     2461\n",
       "outside india     287\n",
       "Name: count, dtype: int64"
      ]
     },
     "execution_count": 40,
     "metadata": {},
     "output_type": "execute_result"
    }
   ],
   "source": [
    "lead_df1['Country'].value_counts()"
   ]
  },
  {
   "cell_type": "code",
   "execution_count": 49,
   "id": "377fa871-c400-411f-98e8-1ee6fb53bd7a",
   "metadata": {},
   "outputs": [
    {
     "data": {
      "text/plain": [
       "Receive More Updates About Our Courses              1\n",
       "I agree to pay the amount through cheque            1\n",
       "Magazine                                            1\n",
       "Get updates on DM Content                           1\n",
       "Update me on Supply Chain Content                   1\n",
       "X Education Forums                                  2\n",
       "Newspaper Article                                   2\n",
       "Search                                              2\n",
       "A free copy of Mastering The Interview              2\n",
       "Through Recommendations                             2\n",
       "Digital Advertisement                               2\n",
       "Converted                                           2\n",
       "Do Not Call                                         2\n",
       "Do Not Email                                        2\n",
       "Newspaper                                           2\n",
       "Country                                             3\n",
       "What matters most to you in choosing a course       3\n",
       "Lead Profile                                        5\n",
       "Lead Origin                                         5\n",
       "What is your current occupation                     6\n",
       "City                                                6\n",
       "How did you hear about X Education                  9\n",
       "Last Notable Activity                              16\n",
       "Last Activity                                      17\n",
       "Specialization                                     18\n",
       "Lead Source                                        20\n",
       "Tags                                               26\n",
       "TotalVisits                                        41\n",
       "Page Views Per Visit                              114\n",
       "Total Time Spent on Website                      1731\n",
       "Lead Number                                      9240\n",
       "Prospect ID                                      9240\n",
       "dtype: int64"
      ]
     },
     "execution_count": 49,
     "metadata": {},
     "output_type": "execute_result"
    }
   ],
   "source": [
    "## Unique value on all the column\n",
    "\n",
    "lead_df1.nunique().sort_values()"
   ]
  },
  {
   "cell_type": "code",
   "execution_count": 51,
   "id": "e159b9b8-e4f1-4d7f-ad69-d5cc371213cb",
   "metadata": {},
   "outputs": [],
   "source": [
    "## Removing unique value having as 1\n",
    "lead_df1= lead_df.drop(['Receive More Updates About Our Courses','I agree to pay the amount through cheque','Magazine',\n",
    "                        'Get updates on DM Content','Update me on Supply Chain Content'],axis=1)"
   ]
  },
  {
   "cell_type": "code",
   "execution_count": 52,
   "id": "b0a060dd-a3f2-49a4-82ca-de4efd7c030f",
   "metadata": {},
   "outputs": [
    {
     "data": {
      "text/plain": [
       "Digital Advertisement                               2\n",
       "X Education Forums                                  2\n",
       "Newspaper Article                                   2\n",
       "Search                                              2\n",
       "Do Not Email                                        2\n",
       "Do Not Call                                         2\n",
       "Converted                                           2\n",
       "A free copy of Mastering The Interview              2\n",
       "Through Recommendations                             2\n",
       "Newspaper                                           2\n",
       "What matters most to you in choosing a course       3\n",
       "Asymmetrique Activity Index                         3\n",
       "Asymmetrique Profile Index                          3\n",
       "Lead Quality                                        5\n",
       "Lead Origin                                         5\n",
       "What is your current occupation                     6\n",
       "Lead Profile                                        6\n",
       "City                                                7\n",
       "How did you hear about X Education                 10\n",
       "Asymmetrique Profile Score                         10\n",
       "Asymmetrique Activity Score                        12\n",
       "Last Notable Activity                              16\n",
       "Last Activity                                      17\n",
       "Specialization                                     19\n",
       "Lead Source                                        21\n",
       "Tags                                               26\n",
       "Country                                            38\n",
       "TotalVisits                                        41\n",
       "Page Views Per Visit                              114\n",
       "Total Time Spent on Website                      1731\n",
       "Lead Number                                      9240\n",
       "Prospect ID                                      9240\n",
       "dtype: int64"
      ]
     },
     "execution_count": 52,
     "metadata": {},
     "output_type": "execute_result"
    }
   ],
   "source": [
    "lead_df1.nunique().sort_values()"
   ]
  },
  {
   "cell_type": "code",
   "execution_count": 63,
   "id": "dc47fb2a-3657-40fe-b65b-d6852a21d68d",
   "metadata": {},
   "outputs": [
    {
     "data": {
      "text/plain": [
       "Lead Quality                                     4767\n",
       "Asymmetrique Profile Score                       4218\n",
       "Asymmetrique Activity Score                      4218\n",
       "Asymmetrique Profile Index                       4218\n",
       "Asymmetrique Activity Index                      4218\n",
       "Tags                                             3353\n",
       "What matters most to you in choosing a course    2709\n",
       "Lead Profile                                     2709\n",
       "What is your current occupation                  2690\n",
       "Country                                          2461\n",
       "How did you hear about X Education               2207\n",
       "Specialization                                   1438\n",
       "City                                             1420\n",
       "TotalVisits                                       137\n",
       "Page Views Per Visit                              137\n",
       "Last Activity                                     103\n",
       "Lead Source                                        36\n",
       "Through Recommendations                             0\n",
       "A free copy of Mastering The Interview              0\n",
       "Prospect ID                                         0\n",
       "Search                                              0\n",
       "Digital Advertisement                               0\n",
       "Newspaper                                           0\n",
       "X Education Forums                                  0\n",
       "Newspaper Article                                   0\n",
       "Lead Number                                         0\n",
       "Total Time Spent on Website                         0\n",
       "Converted                                           0\n",
       "Do Not Call                                         0\n",
       "Do Not Email                                        0\n",
       "Lead Origin                                         0\n",
       "Last Notable Activity                               0\n",
       "dtype: int64"
      ]
     },
     "execution_count": 63,
     "metadata": {},
     "output_type": "execute_result"
    }
   ],
   "source": [
    "lead_df1.isna().sum().sort_values( ascending=False)"
   ]
  },
  {
   "cell_type": "code",
   "execution_count": 65,
   "id": "6b1257aa-3c23-4bcc-a773-dc26554fa7bc",
   "metadata": {},
   "outputs": [
    {
     "data": {
      "text/plain": [
       "Specialization\n",
       "False    7802\n",
       "True     1438\n",
       "Name: count, dtype: int64"
      ]
     },
     "execution_count": 65,
     "metadata": {},
     "output_type": "execute_result"
    }
   ],
   "source": [
    "lead_df1['Specialization'].isna().value_counts()"
   ]
  },
  {
   "cell_type": "code",
   "execution_count": 70,
   "id": "5e6cadfd-7d00-4ce1-aee4-3fece3e6b7c0",
   "metadata": {},
   "outputs": [],
   "source": [
    "## Updating Null value with Not Provided\n",
    "lead_df1['What matters most to you in choosing a course'] = lead_df1['What matters most to you in choosing a course'].fillna('not provided')\n",
    "lead_df1['Country'] = lead_df1['Country'].fillna('not provided')\n",
    "lead_df1['What is your current occupation'] = lead_df1['What is your current occupation'].fillna('not provided')"
   ]
  },
  {
   "cell_type": "code",
   "execution_count": 71,
   "id": "220a66e0-ed11-4e5a-bf14-080e095941ce",
   "metadata": {},
   "outputs": [
    {
     "data": {
      "text/plain": [
       "Prospect ID                                       0.00\n",
       "Lead Number                                       0.00\n",
       "Lead Origin                                       0.00\n",
       "Lead Source                                       0.39\n",
       "Do Not Email                                      0.00\n",
       "Do Not Call                                       0.00\n",
       "Converted                                         0.00\n",
       "TotalVisits                                       1.48\n",
       "Total Time Spent on Website                       0.00\n",
       "Page Views Per Visit                              1.48\n",
       "Last Activity                                     1.11\n",
       "Country                                           0.00\n",
       "Specialization                                   15.56\n",
       "How did you hear about X Education               23.89\n",
       "What is your current occupation                   0.00\n",
       "What matters most to you in choosing a course     0.00\n",
       "Search                                            0.00\n",
       "Magazine                                          0.00\n",
       "Newspaper Article                                 0.00\n",
       "X Education Forums                                0.00\n",
       "Newspaper                                         0.00\n",
       "Digital Advertisement                             0.00\n",
       "Through Recommendations                           0.00\n",
       "Receive More Updates About Our Courses            0.00\n",
       "Tags                                             36.29\n",
       "Update me on Supply Chain Content                 0.00\n",
       "Get updates on DM Content                         0.00\n",
       "Lead Profile                                     29.32\n",
       "City                                             15.37\n",
       "I agree to pay the amount through cheque          0.00\n",
       "A free copy of Mastering The Interview            0.00\n",
       "Last Notable Activity                             0.00\n",
       "dtype: float64"
      ]
     },
     "execution_count": 71,
     "metadata": {},
     "output_type": "execute_result"
    }
   ],
   "source": [
    "\n",
    "# Rechecking the percentage of missing values\n",
    "round(100*(lead_df1.isnull().sum()/len(lead_df1.index)), 2)"
   ]
  },
  {
   "cell_type": "code",
   "execution_count": 72,
   "id": "985e513b-ecf6-4650-819b-cae08a102521",
   "metadata": {},
   "outputs": [
    {
     "data": {
      "text/plain": [
       "Specialization\n",
       "False    7802\n",
       "True     1438\n",
       "Name: count, dtype: int64"
      ]
     },
     "execution_count": 72,
     "metadata": {},
     "output_type": "execute_result"
    }
   ],
   "source": [
    "lead_df1.Specialization.isnull().value_counts()"
   ]
  },
  {
   "cell_type": "code",
   "execution_count": 73,
   "id": "ff19da40-5531-4037-8531-90f8acc0c0ed",
   "metadata": {},
   "outputs": [],
   "source": [
    "lead_df1['Specialization'] = lead_df1['Specialization'].fillna('not provided')"
   ]
  },
  {
   "cell_type": "code",
   "execution_count": 74,
   "id": "4ff60d16-5b0d-42cc-a0ac-d43bafe47d5b",
   "metadata": {},
   "outputs": [
    {
     "data": {
      "text/plain": [
       "Prospect ID                                       0.00\n",
       "Lead Number                                       0.00\n",
       "Lead Origin                                       0.00\n",
       "Lead Source                                       0.39\n",
       "Do Not Email                                      0.00\n",
       "Do Not Call                                       0.00\n",
       "Converted                                         0.00\n",
       "TotalVisits                                       1.48\n",
       "Total Time Spent on Website                       0.00\n",
       "Page Views Per Visit                              1.48\n",
       "Last Activity                                     1.11\n",
       "Country                                           0.00\n",
       "Specialization                                    0.00\n",
       "How did you hear about X Education               23.89\n",
       "What is your current occupation                   0.00\n",
       "What matters most to you in choosing a course     0.00\n",
       "Search                                            0.00\n",
       "Magazine                                          0.00\n",
       "Newspaper Article                                 0.00\n",
       "X Education Forums                                0.00\n",
       "Newspaper                                         0.00\n",
       "Digital Advertisement                             0.00\n",
       "Through Recommendations                           0.00\n",
       "Receive More Updates About Our Courses            0.00\n",
       "Tags                                             36.29\n",
       "Update me on Supply Chain Content                 0.00\n",
       "Get updates on DM Content                         0.00\n",
       "Lead Profile                                     29.32\n",
       "City                                             15.37\n",
       "I agree to pay the amount through cheque          0.00\n",
       "A free copy of Mastering The Interview            0.00\n",
       "Last Notable Activity                             0.00\n",
       "dtype: float64"
      ]
     },
     "execution_count": 74,
     "metadata": {},
     "output_type": "execute_result"
    }
   ],
   "source": [
    "round(100*(lead_df1.isnull().sum()/len(lead_df1.index)), 2)"
   ]
  },
  {
   "cell_type": "code",
   "execution_count": 75,
   "id": "dc311ab4-5900-463b-aafb-90e42a540138",
   "metadata": {},
   "outputs": [],
   "source": [
    "## Droping column 'How did you hear about X Education' ,'Tags' and 'City' as it's due to  null values\n",
    "lead_df1 =lead_df1.drop(['Tags','How did you hear about X Education','City'],axis=1)\n",
    "\n"
   ]
  },
  {
   "cell_type": "code",
   "execution_count": 76,
   "id": "e04d3466-9693-4a45-b4ae-d8f67c716c21",
   "metadata": {},
   "outputs": [
    {
     "data": {
      "text/plain": [
       "Prospect ID                                       0.00\n",
       "Lead Number                                       0.00\n",
       "Lead Origin                                       0.00\n",
       "Lead Source                                       0.39\n",
       "Do Not Email                                      0.00\n",
       "Do Not Call                                       0.00\n",
       "Converted                                         0.00\n",
       "TotalVisits                                       1.48\n",
       "Total Time Spent on Website                       0.00\n",
       "Page Views Per Visit                              1.48\n",
       "Last Activity                                     1.11\n",
       "Country                                           0.00\n",
       "Specialization                                    0.00\n",
       "What is your current occupation                   0.00\n",
       "What matters most to you in choosing a course     0.00\n",
       "Search                                            0.00\n",
       "Magazine                                          0.00\n",
       "Newspaper Article                                 0.00\n",
       "X Education Forums                                0.00\n",
       "Newspaper                                         0.00\n",
       "Digital Advertisement                             0.00\n",
       "Through Recommendations                           0.00\n",
       "Receive More Updates About Our Courses            0.00\n",
       "Update me on Supply Chain Content                 0.00\n",
       "Get updates on DM Content                         0.00\n",
       "Lead Profile                                     29.32\n",
       "I agree to pay the amount through cheque          0.00\n",
       "A free copy of Mastering The Interview            0.00\n",
       "Last Notable Activity                             0.00\n",
       "dtype: float64"
      ]
     },
     "execution_count": 76,
     "metadata": {},
     "output_type": "execute_result"
    }
   ],
   "source": [
    "round(100*(lead_df1.isnull().sum()/len(lead_df1.index)), 2)"
   ]
  },
  {
   "cell_type": "code",
   "execution_count": 77,
   "id": "00a04acd-002d-4bd1-9b9e-cfc671fef132",
   "metadata": {},
   "outputs": [],
   "source": [
    "lead_df1 =lead_df1.drop(['Lead Profile'],axis=1)"
   ]
  },
  {
   "cell_type": "code",
   "execution_count": 78,
   "id": "cd070cf7-f7ab-47ef-8e0d-0c61a3873e42",
   "metadata": {},
   "outputs": [
    {
     "data": {
      "text/plain": [
       "Prospect ID                                      0.00\n",
       "Lead Number                                      0.00\n",
       "Lead Origin                                      0.00\n",
       "Lead Source                                      0.39\n",
       "Do Not Email                                     0.00\n",
       "Do Not Call                                      0.00\n",
       "Converted                                        0.00\n",
       "TotalVisits                                      1.48\n",
       "Total Time Spent on Website                      0.00\n",
       "Page Views Per Visit                             1.48\n",
       "Last Activity                                    1.11\n",
       "Country                                          0.00\n",
       "Specialization                                   0.00\n",
       "What is your current occupation                  0.00\n",
       "What matters most to you in choosing a course    0.00\n",
       "Search                                           0.00\n",
       "Magazine                                         0.00\n",
       "Newspaper Article                                0.00\n",
       "X Education Forums                               0.00\n",
       "Newspaper                                        0.00\n",
       "Digital Advertisement                            0.00\n",
       "Through Recommendations                          0.00\n",
       "Receive More Updates About Our Courses           0.00\n",
       "Update me on Supply Chain Content                0.00\n",
       "Get updates on DM Content                        0.00\n",
       "I agree to pay the amount through cheque         0.00\n",
       "A free copy of Mastering The Interview           0.00\n",
       "Last Notable Activity                            0.00\n",
       "dtype: float64"
      ]
     },
     "execution_count": 78,
     "metadata": {},
     "output_type": "execute_result"
    }
   ],
   "source": [
    "round(100*(lead_df1.isnull().sum()/len(lead_df1.index)), 2)"
   ]
  },
  {
   "cell_type": "code",
   "execution_count": 79,
   "id": "c2cbb7e7-fd54-4fde-b1d3-da9b82aa0513",
   "metadata": {},
   "outputs": [],
   "source": [
    "## Removing null values\n",
    "lead_df2 = lead_df1[lead_df1.isna().sum(axis=1) <1]"
   ]
  },
  {
   "cell_type": "code",
   "execution_count": 81,
   "id": "922dcd8b-c010-47a7-b812-b737cee369df",
   "metadata": {},
   "outputs": [
    {
     "data": {
      "text/plain": [
       "Prospect ID                                      0.0\n",
       "Lead Number                                      0.0\n",
       "Lead Origin                                      0.0\n",
       "Lead Source                                      0.0\n",
       "Do Not Email                                     0.0\n",
       "Do Not Call                                      0.0\n",
       "Converted                                        0.0\n",
       "TotalVisits                                      0.0\n",
       "Total Time Spent on Website                      0.0\n",
       "Page Views Per Visit                             0.0\n",
       "Last Activity                                    0.0\n",
       "Country                                          0.0\n",
       "Specialization                                   0.0\n",
       "What is your current occupation                  0.0\n",
       "What matters most to you in choosing a course    0.0\n",
       "Search                                           0.0\n",
       "Magazine                                         0.0\n",
       "Newspaper Article                                0.0\n",
       "X Education Forums                               0.0\n",
       "Newspaper                                        0.0\n",
       "Digital Advertisement                            0.0\n",
       "Through Recommendations                          0.0\n",
       "Receive More Updates About Our Courses           0.0\n",
       "Update me on Supply Chain Content                0.0\n",
       "Get updates on DM Content                        0.0\n",
       "I agree to pay the amount through cheque         0.0\n",
       "A free copy of Mastering The Interview           0.0\n",
       "Last Notable Activity                            0.0\n",
       "dtype: float64"
      ]
     },
     "execution_count": 81,
     "metadata": {},
     "output_type": "execute_result"
    }
   ],
   "source": [
    "round(100*(lead_df2.isnull().sum()/len(lead_df2.index)), 2)"
   ]
  },
  {
   "cell_type": "code",
   "execution_count": 83,
   "id": "ff7ed156-8e91-4de0-91f8-f5c9e47d3f2a",
   "metadata": {},
   "outputs": [
    {
     "data": {
      "text/html": [
       "<div>\n",
       "<style scoped>\n",
       "    .dataframe tbody tr th:only-of-type {\n",
       "        vertical-align: middle;\n",
       "    }\n",
       "\n",
       "    .dataframe tbody tr th {\n",
       "        vertical-align: top;\n",
       "    }\n",
       "\n",
       "    .dataframe thead th {\n",
       "        text-align: right;\n",
       "    }\n",
       "</style>\n",
       "<table border=\"1\" class=\"dataframe\">\n",
       "  <thead>\n",
       "    <tr style=\"text-align: right;\">\n",
       "      <th></th>\n",
       "      <th>Lead Number</th>\n",
       "      <th>Converted</th>\n",
       "      <th>TotalVisits</th>\n",
       "      <th>Total Time Spent on Website</th>\n",
       "      <th>Page Views Per Visit</th>\n",
       "    </tr>\n",
       "  </thead>\n",
       "  <tbody>\n",
       "    <tr>\n",
       "      <th>count</th>\n",
       "      <td>9074.000000</td>\n",
       "      <td>9074.000000</td>\n",
       "      <td>9074.000000</td>\n",
       "      <td>9074.000000</td>\n",
       "      <td>9074.000000</td>\n",
       "    </tr>\n",
       "    <tr>\n",
       "      <th>mean</th>\n",
       "      <td>617032.619352</td>\n",
       "      <td>0.378554</td>\n",
       "      <td>3.456028</td>\n",
       "      <td>482.887481</td>\n",
       "      <td>2.370151</td>\n",
       "    </tr>\n",
       "    <tr>\n",
       "      <th>std</th>\n",
       "      <td>23348.029512</td>\n",
       "      <td>0.485053</td>\n",
       "      <td>4.858802</td>\n",
       "      <td>545.256560</td>\n",
       "      <td>2.160871</td>\n",
       "    </tr>\n",
       "    <tr>\n",
       "      <th>min</th>\n",
       "      <td>579533.000000</td>\n",
       "      <td>0.000000</td>\n",
       "      <td>0.000000</td>\n",
       "      <td>0.000000</td>\n",
       "      <td>0.000000</td>\n",
       "    </tr>\n",
       "    <tr>\n",
       "      <th>25%</th>\n",
       "      <td>596406.000000</td>\n",
       "      <td>0.000000</td>\n",
       "      <td>1.000000</td>\n",
       "      <td>11.000000</td>\n",
       "      <td>1.000000</td>\n",
       "    </tr>\n",
       "    <tr>\n",
       "      <th>50%</th>\n",
       "      <td>615278.500000</td>\n",
       "      <td>0.000000</td>\n",
       "      <td>3.000000</td>\n",
       "      <td>246.000000</td>\n",
       "      <td>2.000000</td>\n",
       "    </tr>\n",
       "    <tr>\n",
       "      <th>75%</th>\n",
       "      <td>637176.500000</td>\n",
       "      <td>1.000000</td>\n",
       "      <td>5.000000</td>\n",
       "      <td>922.750000</td>\n",
       "      <td>3.200000</td>\n",
       "    </tr>\n",
       "    <tr>\n",
       "      <th>max</th>\n",
       "      <td>660737.000000</td>\n",
       "      <td>1.000000</td>\n",
       "      <td>251.000000</td>\n",
       "      <td>2272.000000</td>\n",
       "      <td>55.000000</td>\n",
       "    </tr>\n",
       "  </tbody>\n",
       "</table>\n",
       "</div>"
      ],
      "text/plain": [
       "         Lead Number    Converted  TotalVisits  Total Time Spent on Website  \\\n",
       "count    9074.000000  9074.000000  9074.000000                  9074.000000   \n",
       "mean   617032.619352     0.378554     3.456028                   482.887481   \n",
       "std     23348.029512     0.485053     4.858802                   545.256560   \n",
       "min    579533.000000     0.000000     0.000000                     0.000000   \n",
       "25%    596406.000000     0.000000     1.000000                    11.000000   \n",
       "50%    615278.500000     0.000000     3.000000                   246.000000   \n",
       "75%    637176.500000     1.000000     5.000000                   922.750000   \n",
       "max    660737.000000     1.000000   251.000000                  2272.000000   \n",
       "\n",
       "       Page Views Per Visit  \n",
       "count           9074.000000  \n",
       "mean               2.370151  \n",
       "std                2.160871  \n",
       "min                0.000000  \n",
       "25%                1.000000  \n",
       "50%                2.000000  \n",
       "75%                3.200000  \n",
       "max               55.000000  "
      ]
     },
     "execution_count": 83,
     "metadata": {},
     "output_type": "execute_result"
    }
   ],
   "source": [
    "lead_df2.describe()"
   ]
  },
  {
   "cell_type": "code",
   "execution_count": 84,
   "id": "fd4ec048-37bc-4173-be61-72d22b446fa1",
   "metadata": {},
   "outputs": [
    {
     "name": "stdout",
     "output_type": "stream",
     "text": [
      "<class 'pandas.core.frame.DataFrame'>\n",
      "Index: 9074 entries, 0 to 9239\n",
      "Data columns (total 28 columns):\n",
      " #   Column                                         Non-Null Count  Dtype  \n",
      "---  ------                                         --------------  -----  \n",
      " 0   Prospect ID                                    9074 non-null   object \n",
      " 1   Lead Number                                    9074 non-null   int64  \n",
      " 2   Lead Origin                                    9074 non-null   object \n",
      " 3   Lead Source                                    9074 non-null   object \n",
      " 4   Do Not Email                                   9074 non-null   object \n",
      " 5   Do Not Call                                    9074 non-null   object \n",
      " 6   Converted                                      9074 non-null   int64  \n",
      " 7   TotalVisits                                    9074 non-null   float64\n",
      " 8   Total Time Spent on Website                    9074 non-null   int64  \n",
      " 9   Page Views Per Visit                           9074 non-null   float64\n",
      " 10  Last Activity                                  9074 non-null   object \n",
      " 11  Country                                        9074 non-null   object \n",
      " 12  Specialization                                 9074 non-null   object \n",
      " 13  What is your current occupation                9074 non-null   object \n",
      " 14  What matters most to you in choosing a course  9074 non-null   object \n",
      " 15  Search                                         9074 non-null   object \n",
      " 16  Magazine                                       9074 non-null   object \n",
      " 17  Newspaper Article                              9074 non-null   object \n",
      " 18  X Education Forums                             9074 non-null   object \n",
      " 19  Newspaper                                      9074 non-null   object \n",
      " 20  Digital Advertisement                          9074 non-null   object \n",
      " 21  Through Recommendations                        9074 non-null   object \n",
      " 22  Receive More Updates About Our Courses         9074 non-null   object \n",
      " 23  Update me on Supply Chain Content              9074 non-null   object \n",
      " 24  Get updates on DM Content                      9074 non-null   object \n",
      " 25  I agree to pay the amount through cheque       9074 non-null   object \n",
      " 26  A free copy of Mastering The Interview         9074 non-null   object \n",
      " 27  Last Notable Activity                          9074 non-null   object \n",
      "dtypes: float64(2), int64(3), object(23)\n",
      "memory usage: 2.0+ MB\n"
     ]
    }
   ],
   "source": [
    "lead_df2.info()"
   ]
  },
  {
   "cell_type": "code",
   "execution_count": null,
   "id": "206505cb-a2eb-4f81-9520-653d8fde6246",
   "metadata": {},
   "outputs": [],
   "source": []
  },
  {
   "cell_type": "code",
   "execution_count": null,
   "id": "67e4a69b-60ff-435e-ba4a-47b694a6ed5f",
   "metadata": {},
   "outputs": [],
   "source": []
  },
  {
   "cell_type": "code",
   "execution_count": null,
   "id": "5367c6c0-1dac-4b5c-9668-140e25533a2d",
   "metadata": {},
   "outputs": [],
   "source": []
  }
 ],
 "metadata": {
  "kernelspec": {
   "display_name": "Python 3 (ipykernel)",
   "language": "python",
   "name": "python3"
  },
  "language_info": {
   "codemirror_mode": {
    "name": "ipython",
    "version": 3
   },
   "file_extension": ".py",
   "mimetype": "text/x-python",
   "name": "python",
   "nbconvert_exporter": "python",
   "pygments_lexer": "ipython3",
   "version": "3.11.7"
  }
 },
 "nbformat": 4,
 "nbformat_minor": 5
}
